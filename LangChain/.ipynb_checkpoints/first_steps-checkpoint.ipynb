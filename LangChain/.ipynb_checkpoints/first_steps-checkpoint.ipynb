{
 "cells": [
  {
   "cell_type": "code",
   "execution_count": 1,
   "id": "f315b631",
   "metadata": {},
   "outputs": [],
   "source": [
    "import langchain\n",
    "import os"
   ]
  },
  {
   "cell_type": "code",
   "execution_count": 2,
   "id": "d20daac3",
   "metadata": {},
   "outputs": [],
   "source": [
    "with open('key.txt', 'r') as file:\n",
    "    api_key_langchain = file.readline()\n",
    "    api_key_openai = file.readline()\n",
    "\n",
    "os.environ['LANGCHAIN_TRACING_V2'] = \"true\"\n",
    "os.environ['LANGCHAIN_API_KEY'] = api_key_langchain\n",
    "os.environ['OPENAI_API_KEY'] = api_key_openai"
   ]
  },
  {
   "cell_type": "code",
   "execution_count": 3,
   "id": "813e0ff8",
   "metadata": {},
   "outputs": [],
   "source": [
    "from langchain_openai import ChatOpenAI\n",
    "llm = ChatOpenAI()"
   ]
  },
  {
   "cell_type": "code",
   "execution_count": 5,
   "id": "79713abc",
   "metadata": {},
   "outputs": [
    {
     "data": {
      "text/plain": [
       "AIMessage(content='Langchain is a blockchain platform designed to create a decentralized marketplace for language services, connecting customers directly with translators and interpreters. The platform aims to provide a secure and efficient way for individuals and businesses to access professional language services, while also enabling language professionals to easily market their skills and manage their work. Overall, Langchain seeks to revolutionize the language services industry by removing intermediaries and allowing for direct, transparent transactions between clients and language professionals.')"
      ]
     },
     "execution_count": 5,
     "metadata": {},
     "output_type": "execute_result"
    }
   ],
   "source": [
    "#LLM invoke\n",
    "llm.invoke(\"Can you summarise the purpose of langchain?\")"
   ]
  },
  {
   "cell_type": "code",
   "execution_count": 6,
   "id": "06587baf",
   "metadata": {},
   "outputs": [
    {
     "data": {
      "text/plain": [
       "AIMessage(content='Langsmith can help with testing in several ways:\\n\\n1. Automated Testing: Langsmith can generate test cases automatically based on the given input specifications. This can help in improving test coverage and identifying edge cases that might be missed in manual testing.\\n\\n2. Test Data Generation: Langsmith can generate realistic and diverse test data for testing purposes. This can help in testing the robustness and scalability of the system under different scenarios.\\n\\n3. Test Script Generation: Langsmith can generate test scripts for various testing frameworks such as Selenium, JUnit, or Pytest. This can help in automating the testing process and saving time for manual testing efforts.\\n\\n4. Test Coverage Analysis: Langsmith can analyze the test coverage of your codebase and identify areas that need more testing. This can help in improving the overall quality of the software by ensuring all code paths are tested.\\n\\n5. Performance Testing: Langsmith can generate load tests to simulate high traffic scenarios and measure the performance of the system under stress. This can help in identifying bottlenecks and optimizing the system for better performance.\\n\\nOverall, Langsmith can help streamline the testing process, improve test coverage, and ensure the quality and reliability of your software product.')"
      ]
     },
     "execution_count": 6,
     "metadata": {},
     "output_type": "execute_result"
    }
   ],
   "source": [
    "from langchain_core.prompts import ChatPromptTemplate\n",
    "\n",
    "#Prompt template\n",
    "prompt = ChatPromptTemplate.from_messages([\n",
    "    (\"system\", \"You are world class technical documentation writer.\"),\n",
    "    (\"user\", \"{input}\")\n",
    "])\n",
    "\n",
    "#LLM chain\n",
    "chain = prompt | llm \n",
    "\n",
    "chain.invoke({\"input\": \"how can langsmith help with testing?\"})"
   ]
  },
  {
   "cell_type": "code",
   "execution_count": 7,
   "id": "6dddd8c0",
   "metadata": {},
   "outputs": [
    {
     "data": {
      "text/plain": [
       "'Langsmith is a powerful tool that can greatly assist in testing by providing automated language testing capabilities. Here are some ways Langsmith can help with testing:\\n\\n1. Automated Language Verification: Langsmith can automatically verify the correctness of language usage in your application or system. It can identify any language-related issues such as grammar errors, spelling mistakes, punctuation problems, and more.\\n\\n2. Language Consistency Checking: Langsmith can ensure consistency in language usage across your application or system. It can detect inconsistencies in terminology, style, formatting, and other language elements.\\n\\n3. Localization Testing: Langsmith can help with testing the localization of your application by verifying the accuracy and quality of translated content. It can identify translation errors, cultural appropriateness issues, and other localization-related problems.\\n\\n4. Language Quality Assurance: Langsmith can serve as a language quality assurance tool by performing thorough language checks to ensure that the language in your application meets high standards of clarity, accuracy, and professionalism.\\n\\n5. Integration with Testing Workflows: Langsmith can be integrated into your testing workflows to automate language testing processes and ensure that language-related issues are identified and resolved early in the development cycle.\\n\\nOverall, Langsmith can help improve the quality and user experience of your application by ensuring that the language used is accurate, consistent, and culturally appropriate. It can streamline language testing processes and help you deliver a polished and professional product to your users.'"
      ]
     },
     "execution_count": 7,
     "metadata": {},
     "output_type": "execute_result"
    }
   ],
   "source": [
    "from langchain_core.output_parsers import StrOutputParser\n",
    "\n",
    "#String parser to transform aoutput to string\n",
    "output_parser = StrOutputParser()\n",
    "\n",
    "chain = prompt | llm | output_parser\n",
    "\n",
    "chain.invoke({\"input\": \"how can langsmith help with testing?\"})"
   ]
  },
  {
   "cell_type": "code",
   "execution_count": null,
   "id": "a25e8e66",
   "metadata": {},
   "outputs": [],
   "source": []
  }
 ],
 "metadata": {
  "kernelspec": {
   "display_name": "Python 3 (ipykernel)",
   "language": "python",
   "name": "python3"
  },
  "language_info": {
   "codemirror_mode": {
    "name": "ipython",
    "version": 3
   },
   "file_extension": ".py",
   "mimetype": "text/x-python",
   "name": "python",
   "nbconvert_exporter": "python",
   "pygments_lexer": "ipython3",
   "version": "3.10.13"
  }
 },
 "nbformat": 4,
 "nbformat_minor": 5
}
