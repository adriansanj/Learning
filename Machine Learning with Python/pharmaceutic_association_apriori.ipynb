{
 "cells": [
  {
   "cell_type": "markdown",
   "id": "33775c39",
   "metadata": {},
   "source": [
    "Task: Create association rules of a pharmaceutic company frequently bought together products"
   ]
  },
  {
   "cell_type": "code",
   "execution_count": 2,
   "id": "d4466166",
   "metadata": {},
   "outputs": [],
   "source": [
    "import numpy as np\n",
    "import pandas as pd\n",
    "import matplotlib.pyplot as plt\n",
    "from apyori import apriori"
   ]
  },
  {
   "cell_type": "markdown",
   "id": "5b40ac6d",
   "metadata": {},
   "source": [
    "## Import data"
   ]
  },
  {
   "cell_type": "code",
   "execution_count": 3,
   "id": "51c523bd",
   "metadata": {},
   "outputs": [
    {
     "data": {
      "text/html": [
       "<div>\n",
       "<style scoped>\n",
       "    .dataframe tbody tr th:only-of-type {\n",
       "        vertical-align: middle;\n",
       "    }\n",
       "\n",
       "    .dataframe tbody tr th {\n",
       "        vertical-align: top;\n",
       "    }\n",
       "\n",
       "    .dataframe thead th {\n",
       "        text-align: right;\n",
       "    }\n",
       "</style>\n",
       "<table border=\"1\" class=\"dataframe\">\n",
       "  <thead>\n",
       "    <tr style=\"text-align: right;\">\n",
       "      <th></th>\n",
       "      <th>0</th>\n",
       "      <th>1</th>\n",
       "      <th>2</th>\n",
       "      <th>3</th>\n",
       "      <th>4</th>\n",
       "      <th>5</th>\n",
       "      <th>6</th>\n",
       "      <th>7</th>\n",
       "      <th>8</th>\n",
       "      <th>9</th>\n",
       "      <th>...</th>\n",
       "      <th>60</th>\n",
       "      <th>61</th>\n",
       "      <th>62</th>\n",
       "      <th>63</th>\n",
       "      <th>64</th>\n",
       "      <th>65</th>\n",
       "      <th>66</th>\n",
       "      <th>67</th>\n",
       "      <th>68</th>\n",
       "      <th>69</th>\n",
       "    </tr>\n",
       "  </thead>\n",
       "  <tbody>\n",
       "    <tr>\n",
       "      <th>0</th>\n",
       "      <td>P00069042</td>\n",
       "      <td>P00248942</td>\n",
       "      <td>P00087842</td>\n",
       "      <td>P00085442</td>\n",
       "      <td>P00085942</td>\n",
       "      <td>P00102642</td>\n",
       "      <td>P00110842</td>\n",
       "      <td>P00004842</td>\n",
       "      <td>P00117942</td>\n",
       "      <td>P00258742</td>\n",
       "      <td>...</td>\n",
       "      <td>NaN</td>\n",
       "      <td>NaN</td>\n",
       "      <td>NaN</td>\n",
       "      <td>NaN</td>\n",
       "      <td>NaN</td>\n",
       "      <td>NaN</td>\n",
       "      <td>NaN</td>\n",
       "      <td>NaN</td>\n",
       "      <td>NaN</td>\n",
       "      <td>NaN</td>\n",
       "    </tr>\n",
       "    <tr>\n",
       "      <th>1</th>\n",
       "      <td>P00285442</td>\n",
       "      <td>P00112842</td>\n",
       "      <td>P00293242</td>\n",
       "      <td>P00289342</td>\n",
       "      <td>P00303342</td>\n",
       "      <td>P00165742</td>\n",
       "      <td>P00323942</td>\n",
       "      <td>P00334242</td>\n",
       "      <td>P00285742</td>\n",
       "      <td>P00034742</td>\n",
       "      <td>...</td>\n",
       "      <td>P00112442</td>\n",
       "      <td>P00323642</td>\n",
       "      <td>P00110742</td>\n",
       "      <td>P00177842</td>\n",
       "      <td>P00104842</td>\n",
       "      <td>P00070342</td>\n",
       "      <td>P00112142</td>\n",
       "      <td>P00050242</td>\n",
       "      <td>P00010742</td>\n",
       "      <td>P00115442</td>\n",
       "    </tr>\n",
       "    <tr>\n",
       "      <th>2</th>\n",
       "      <td>P00193542</td>\n",
       "      <td>P00132842</td>\n",
       "      <td>P0098342</td>\n",
       "      <td>P00010242</td>\n",
       "      <td>P00128042</td>\n",
       "      <td>P00112142</td>\n",
       "      <td>P00182742</td>\n",
       "      <td>P00110742</td>\n",
       "      <td>P00190142</td>\n",
       "      <td>P00178942</td>\n",
       "      <td>...</td>\n",
       "      <td>NaN</td>\n",
       "      <td>NaN</td>\n",
       "      <td>NaN</td>\n",
       "      <td>NaN</td>\n",
       "      <td>NaN</td>\n",
       "      <td>NaN</td>\n",
       "      <td>NaN</td>\n",
       "      <td>NaN</td>\n",
       "      <td>NaN</td>\n",
       "      <td>NaN</td>\n",
       "    </tr>\n",
       "    <tr>\n",
       "      <th>3</th>\n",
       "      <td>P00184942</td>\n",
       "      <td>P00346142</td>\n",
       "      <td>P0097242</td>\n",
       "      <td>P00046742</td>\n",
       "      <td>P00329542</td>\n",
       "      <td>P00114942</td>\n",
       "      <td>P00025442</td>\n",
       "      <td>P00112542</td>\n",
       "      <td>P00112142</td>\n",
       "      <td>P00318742</td>\n",
       "      <td>...</td>\n",
       "      <td>NaN</td>\n",
       "      <td>NaN</td>\n",
       "      <td>NaN</td>\n",
       "      <td>NaN</td>\n",
       "      <td>NaN</td>\n",
       "      <td>NaN</td>\n",
       "      <td>NaN</td>\n",
       "      <td>NaN</td>\n",
       "      <td>NaN</td>\n",
       "      <td>NaN</td>\n",
       "    </tr>\n",
       "    <tr>\n",
       "      <th>4</th>\n",
       "      <td>P00274942</td>\n",
       "      <td>P00251242</td>\n",
       "      <td>P00014542</td>\n",
       "      <td>P00031342</td>\n",
       "      <td>P00145042</td>\n",
       "      <td>P00189042</td>\n",
       "      <td>P00328242</td>\n",
       "      <td>P00159442</td>\n",
       "      <td>P00029142</td>\n",
       "      <td>P00183442</td>\n",
       "      <td>...</td>\n",
       "      <td>P00251742</td>\n",
       "      <td>P00315642</td>\n",
       "      <td>P00154742</td>\n",
       "      <td>P00157642</td>\n",
       "      <td>P00022342</td>\n",
       "      <td>P00256642</td>\n",
       "      <td>P00296042</td>\n",
       "      <td>P00059442</td>\n",
       "      <td>P00143142</td>\n",
       "      <td>P00017142</td>\n",
       "    </tr>\n",
       "  </tbody>\n",
       "</table>\n",
       "<p>5 rows × 70 columns</p>\n",
       "</div>"
      ],
      "text/plain": [
       "          0          1          2          3          4          5   \\\n",
       "0  P00069042  P00248942  P00087842  P00085442  P00085942  P00102642   \n",
       "1  P00285442  P00112842  P00293242  P00289342  P00303342  P00165742   \n",
       "2  P00193542  P00132842   P0098342  P00010242  P00128042  P00112142   \n",
       "3  P00184942  P00346142   P0097242  P00046742  P00329542  P00114942   \n",
       "4  P00274942  P00251242  P00014542  P00031342  P00145042  P00189042   \n",
       "\n",
       "          6          7          8          9   ...         60         61  \\\n",
       "0  P00110842  P00004842  P00117942  P00258742  ...        NaN        NaN   \n",
       "1  P00323942  P00334242  P00285742  P00034742  ...  P00112442  P00323642   \n",
       "2  P00182742  P00110742  P00190142  P00178942  ...        NaN        NaN   \n",
       "3  P00025442  P00112542  P00112142  P00318742  ...        NaN        NaN   \n",
       "4  P00328242  P00159442  P00029142  P00183442  ...  P00251742  P00315642   \n",
       "\n",
       "          62         63         64         65         66         67  \\\n",
       "0        NaN        NaN        NaN        NaN        NaN        NaN   \n",
       "1  P00110742  P00177842  P00104842  P00070342  P00112142  P00050242   \n",
       "2        NaN        NaN        NaN        NaN        NaN        NaN   \n",
       "3        NaN        NaN        NaN        NaN        NaN        NaN   \n",
       "4  P00154742  P00157642  P00022342  P00256642  P00296042  P00059442   \n",
       "\n",
       "          68         69  \n",
       "0        NaN        NaN  \n",
       "1  P00010742  P00115442  \n",
       "2        NaN        NaN  \n",
       "3        NaN        NaN  \n",
       "4  P00143142  P00017142  \n",
       "\n",
       "[5 rows x 70 columns]"
      ]
     },
     "execution_count": 3,
     "metadata": {},
     "output_type": "execute_result"
    }
   ],
   "source": [
    "df = pd.read_excel('./data/customers_products.xlsx', header = None)\n",
    "df.head()"
   ]
  },
  {
   "cell_type": "code",
   "execution_count": 4,
   "id": "1cde9ffa",
   "metadata": {},
   "outputs": [
    {
     "data": {
      "text/plain": [
       "500"
      ]
     },
     "execution_count": 4,
     "metadata": {},
     "output_type": "execute_result"
    }
   ],
   "source": [
    "len(df)"
   ]
  },
  {
   "cell_type": "markdown",
   "id": "1c16b49a",
   "metadata": {},
   "source": [
    "## Pre-processing"
   ]
  },
  {
   "cell_type": "code",
   "execution_count": 5,
   "id": "99e41e55",
   "metadata": {},
   "outputs": [],
   "source": [
    "records = []\n",
    "for i in range(0, df.shape[0]):\n",
    "    records.append([str(df.values[i, j]) for j in range(0, df.shape[1])])"
   ]
  },
  {
   "cell_type": "markdown",
   "id": "dc6f488d",
   "metadata": {},
   "source": [
    "## Algorithm definition APRIORI\n",
    "### Threshold definition"
   ]
  },
  {
   "cell_type": "code",
   "execution_count": 27,
   "id": "ba7d1b44",
   "metadata": {},
   "outputs": [
    {
     "name": "stdout",
     "output_type": "stream",
     "text": [
      "0.056\n"
     ]
    }
   ],
   "source": [
    "min_n = 2\n",
    "\n",
    "# Calculate support. Suppose we have data from a 7 day (week) range, and we want products bought at least 4 times a day:\n",
    "min_day = 4\n",
    "range_data = 7\n",
    "min_support = min_day * range_data / len(df)\n",
    "print(min_support)\n",
    "\n",
    "min_confidence = 0.3\n",
    "min_lift = 2"
   ]
  },
  {
   "cell_type": "markdown",
   "id": "ec966bae",
   "metadata": {},
   "source": [
    "### Algorithm execution"
   ]
  },
  {
   "cell_type": "code",
   "execution_count": 28,
   "id": "5b2507d8",
   "metadata": {},
   "outputs": [],
   "source": [
    "association_rules = apriori(records, min_support=min_support, min_confidence=min_confidence, min_lift=min_lift, min_length=min_n)\n",
    "association_rules = list(association_rules)"
   ]
  },
  {
   "cell_type": "code",
   "execution_count": 29,
   "id": "395a858c",
   "metadata": {},
   "outputs": [
    {
     "data": {
      "text/plain": [
       "5"
      ]
     },
     "execution_count": 29,
     "metadata": {},
     "output_type": "execute_result"
    }
   ],
   "source": [
    "len(association_rules)"
   ]
  },
  {
   "cell_type": "code",
   "execution_count": 30,
   "id": "5593d8ca",
   "metadata": {},
   "outputs": [
    {
     "name": "stdout",
     "output_type": "stream",
     "text": [
      "Rule: P00010742 -> P00184942\n",
      "Support: 0.072\n",
      "Confidence: 0.44999999999999996\n",
      "Lift: 2.083333333333333\n",
      "------------------------------\n",
      "Rule: P00025442 -> P00110742\n",
      "Support: 0.088\n",
      "Confidence: 0.4583333333333333\n",
      "Lift: 2.083333333333333\n",
      "------------------------------\n",
      "Rule: P00145042 -> P00057642\n",
      "Support: 0.058\n",
      "Confidence: 0.34523809523809523\n",
      "Lift: 2.2713032581453634\n",
      "------------------------------\n",
      "Rule: P00057642 -> P00237542\n",
      "Support: 0.056\n",
      "Confidence: 0.3333333333333333\n",
      "Lift: 2.4154589371980673\n",
      "------------------------------\n",
      "Rule: P00025442 -> nan\n",
      "Support: 0.062\n",
      "Confidence: 0.3229166666666667\n",
      "Lift: 2.4098258706467663\n",
      "------------------------------\n"
     ]
    }
   ],
   "source": [
    "for item in association_rules:\n",
    "    # first index of the inner list\n",
    "    pair = item[0]\n",
    "    items = [x for x in pair]\n",
    "    # second index of the inner list\n",
    "    support = item[1]\n",
    "\n",
    "    print(f\"Rule: {items[0]} -> {items[1]}\\nSupport: {support}\")\n",
    "    print(f\"Confidence: {item[2][0][2]}\\nLift: {item[2][0][3]}\")\n",
    "    print(f\"------------------------------\")\n"
   ]
  },
  {
   "cell_type": "markdown",
   "id": "4e2181f4",
   "metadata": {},
   "source": []
  },
  {
   "cell_type": "markdown",
   "id": "b019db61",
   "metadata": {},
   "source": []
  }
 ],
 "metadata": {
  "kernelspec": {
   "display_name": "test_env",
   "language": "python",
   "name": "python3"
  },
  "language_info": {
   "codemirror_mode": {
    "name": "ipython",
    "version": 3
   },
   "file_extension": ".py",
   "mimetype": "text/x-python",
   "name": "python",
   "nbconvert_exporter": "python",
   "pygments_lexer": "ipython3",
   "version": "3.12.9"
  }
 },
 "nbformat": 4,
 "nbformat_minor": 5
}
